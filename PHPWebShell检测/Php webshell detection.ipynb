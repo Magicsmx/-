{
 "cells": [
  {
   "cell_type": "markdown",
   "metadata": {
    "collapsed": false
   },
   "source": [
    "**<font color=black size=5 face=雅黑>引入第三方库</font>**"
   ]
  },
  {
   "cell_type": "code",
   "execution_count": 39,
   "metadata": {
    "collapsed": false
   },
   "outputs": [],
   "source": [
    "import re,math\r\n",
    "from math import log\r\n",
    "import pandas as pd\r\n",
    "import numpy as np\r\n",
    "from sklearn.model_selection import train_test_split,GridSearchCV,cross_val_score\r\n",
    "from sklearn import datasets, metrics, model_selection, svm\r\n",
    "from itertools import groupby\r\n",
    "from collections import Counter,defaultdict\r\n",
    "from sklearn.model_selection import train_test_split\r\n",
    "from sklearn.ensemble import RandomForestClassifier\r\n",
    "from sklearn.metrics import precision_score, recall_score, f1_score\r\n",
    "from sklearn.metrics import classification_report\r\n",
    "from sklearn import tree\r\n",
    "from sklearn.neighbors import KNeighborsClassifier as KNN\r\n",
    "import matplotlib as mpl\r\n",
    "import seaborn as sns\r\n",
    "import matplotlib.pyplot as plt\r\n",
    "from matplotlib.pyplot import MultipleLocator\r\n",
    "import urllib\r\n",
    "import zipfile\r\n",
    "import os\r\n",
    "import zlib\r\n",
    "from sklearn.metrics import plot_roc_curve"
   ]
  },
  {
   "cell_type": "markdown",
   "metadata": {
    "collapsed": false
   },
   "source": [
    "**<font color=black size=5 face=雅黑>解压文件并输出到指定目录</font>**"
   ]
  },
  {
   "cell_type": "code",
   "execution_count": 17,
   "metadata": {
    "collapsed": false
   },
   "outputs": [],
   "source": [
    "#可以自己定义路径\r\n",
    "zipname = './data/data61842/php-webshell.zip'\r\n",
    "extractpath =  './work/php-webshell'\r\n",
    "#注意压缩格式选择\r\n",
    "frzip = zipfile.ZipFile(zipname, 'r', zipfile.ZIP_DEFLATED)\r\n",
    "#将所有文件加压缩到指定目录\r\n",
    "frzip.extractall(extractpath)\r\n",
    "frzip.close()\r\n",
    "#可以自己定义路径\r\n",
    "zipname = './data/data61842/php-benign.zip'\r\n",
    "extractpath =  './work/php-benign'\r\n",
    "#注意压缩格式选择\r\n",
    "frzip = zipfile.ZipFile(zipname, 'r', zipfile.ZIP_DEFLATED)\r\n",
    "#将所有文件加压缩到指定目录\r\n",
    "frzip.extractall(extractpath)\r\n",
    "frzip.close()"
   ]
  },
  {
   "cell_type": "markdown",
   "metadata": {
    "collapsed": false
   },
   "source": [
    "**<font color=black size=5 face=雅黑>数据的获取及打标签</font>**"
   ]
  },
  {
   "cell_type": "code",
   "execution_count": 18,
   "metadata": {
    "collapsed": false
   },
   "outputs": [
    {
     "name": "stdout",
     "output_type": "stream",
     "text": [
      "1639\n",
      "1814\n",
      "1639\n",
      "1814\n"
     ]
    }
   ],
   "source": [
    "files_webshell = os.listdir(\"./work/php-webshell/php-webshell\")\n",
    "files_common = os.listdir(\"./work/php-benign/php-benign\")\n",
    "print(len(files_webshell))\n",
    "print(len(files_common))\n",
    "\n",
    "labels_webshell = []\n",
    "labels_common = []\n",
    "for i in range(0,len(files_webshell)):\n",
    "    labels_webshell.append(1)\n",
    "for i in range(0,len(files_common)):\n",
    "    labels_common.append(0)\n",
    "print(len(labels_webshell))\n",
    "print(len(labels_common))"
   ]
  },
  {
   "cell_type": "markdown",
   "metadata": {
    "collapsed": false
   },
   "source": [
    "**<font color=black size=5 face=雅黑>输入到csv文件</font>**"
   ]
  },
  {
   "cell_type": "code",
   "execution_count": 19,
   "metadata": {
    "collapsed": false
   },
   "outputs": [
    {
     "name": "stdout",
     "output_type": "stream",
     "text": [
      "                                                file  target\n",
      "0         ./work/php-webshell/php-webshell/smowu.php       1\n",
      "1  ./work/php-webshell/php-webshell/5f4a33b40c9f5...       1\n",
      "2  ./work/php-webshell/php-webshell/79a934fc3e80d...       1\n",
      "3  ./work/php-webshell/php-webshell/fd141197c89d2...       1\n",
      "4  ./work/php-webshell/php-webshell/d9647e4136623...       1\n",
      "                                                 file  target\n",
      "3448            ./work/php-benign/php-benign/Eyou.php       0\n",
      "3449          ./work/php-benign/php-benign/Mysqli.php       0\n",
      "3450  ./work/php-benign/php-benign/sys_admin_user.php       0\n",
      "3451        ./work/php-benign/php-benign/SmsLogic.php       0\n",
      "3452        ./work/php-benign/php-benign/WxPayApi.php       0\n"
     ]
    }
   ],
   "source": [
    "for i in range(0,len(files_webshell)):\r\n",
    "    files_webshell[i] = \"./work/php-webshell/php-webshell/\" + files_webshell[i]\r\n",
    "for i in range(0,len(files_common)):\r\n",
    "    files_common[i] = \"./work/php-benign/php-benign/\" + files_common[i]\r\n",
    " \r\n",
    "files = files_webshell + files_common\r\n",
    "labels = labels_webshell + labels_common\r\n",
    " \r\n",
    "datadict = {'file':files, 'target':labels}\r\n",
    "df = pd.DataFrame(datadict,columns=['file','target'])\r\n",
    "print(df.head())\r\n",
    "print(df.tail())"
   ]
  },
  {
   "cell_type": "markdown",
   "metadata": {
    "collapsed": false
   },
   "source": [
    "**<font color=black size=5 face=雅黑>特征一：文件字符长度</font>**"
   ]
  },
  {
   "cell_type": "code",
   "execution_count": 31,
   "metadata": {
    "collapsed": false
   },
   "outputs": [],
   "source": [
    "def getfilelen(data):\r\n",
    "    length = 0\r\n",
    "    with open(data,'r',encoding='ISO-8859-1') as f:\r\n",
    "        content = f.readlines()\r\n",
    "        for i in content:\r\n",
    "            length = length + len(i)\r\n",
    "        f.close()\r\n",
    "    return length\r\n",
    "\r\n",
    "df['len'] = df['file'].apply(getfilelen)\r\n",
    "# df['len_1'] = pd.cut(df['len'], bins=[0,100, 200, 300, 400,500,600,700,800,900,1000], labels=['100','200', '300', '400','500','600','700','800','900','1000'])\r\n",
    "# sns.countplot(x='len_1', hue='target',data=df)\r\n"
   ]
  },
  {
   "cell_type": "markdown",
   "metadata": {
    "collapsed": false
   },
   "source": [
    "**<font color=black size=5 face=雅黑>特征二：文件大小（KB）</font>**"
   ]
  },
  {
   "cell_type": "code",
   "execution_count": 21,
   "metadata": {
    "collapsed": false
   },
   "outputs": [],
   "source": [
    "def filesize(data):\r\n",
    "    file_size = int((os.path.getsize(data)/1024)*100)/100\r\n",
    "    return file_size\r\n",
    "df['file_size'] = df['file'].apply(filesize)\r\n",
    "# df['file_size_1'] = pd.cut(df['file_size'], bins=[0,4, 8, 12, 16,20,24,28,32,36,40,44,48,52,56,60], labels=['4', '8', '12', '16','20','24','28','32','36','40','44','48','52','56','60'])\r\n",
    "# sns.countplot(x='file_size_1', hue='target',data=df)\r\n"
   ]
  },
  {
   "cell_type": "markdown",
   "metadata": {
    "collapsed": false
   },
   "source": [
    "**<font color=black size=5 face=雅黑>特征三：信息熵</font>**"
   ]
  },
  {
   "cell_type": "code",
   "execution_count": 22,
   "metadata": {
    "collapsed": false
   },
   "outputs": [],
   "source": [
    "def calculate(data):\r\n",
    "    \"\"\"计算文件信息熵.\"\"\"\r\n",
    "    with open(data,'r',encoding='ISO-8859-1') as f:\r\n",
    "        content = f.read()   \r\n",
    "        if not content:\r\n",
    "            return 0\r\n",
    "        entropy = 0 # 保存最终熵值\r\n",
    "        stripped_data =content.replace(' ', '') # 去掉文件内容中的空格\r\n",
    "        # 遍历所有asci 256个字符\r\n",
    "        for x in range(256):\r\n",
    "            p_x = float(stripped_data.count(chr(x)))/len(stripped_data) # 计算单个字符出现的概率\r\n",
    "            if p_x > 0:\r\n",
    "                entropy += - p_x * math.log(p_x, 2) # 计算该字符的熵值并累加\r\n",
    "    return entropy\r\n",
    "df['entropy'] = df['file'].apply(calculate)\r\n",
    "# df['entropy_1'] = pd.cut(df['entropy'], bins=[0,1, 2, 3, 4,5,6,7,8,9,10], labels=['1','2', '3', '4','5','6','7','8','9','10'])\r\n",
    "# sns.countplot(x='entropy_1', hue='target',data=df)"
   ]
  },
  {
   "cell_type": "markdown",
   "metadata": {
    "collapsed": false
   },
   "source": [
    "**<font color=black size=5 face=雅黑>特征四：重合因子（IC）</font>**"
   ]
  },
  {
   "cell_type": "code",
   "execution_count": 23,
   "metadata": {
    "collapsed": false
   },
   "outputs": [
    {
     "name": "stdout",
     "output_type": "stream",
     "text": [
      "0    0.034737\n",
      "1    0.013846\n",
      "2    0.026527\n",
      "3    0.015964\n",
      "4    0.027288\n",
      "Name: IC, dtype: float64\n",
      "3448    0.079107\n",
      "3449    0.096876\n",
      "3450    0.031714\n",
      "3451    0.076455\n",
      "3452    0.019943\n",
      "Name: IC, dtype: float64\n"
     ]
    }
   ],
   "source": [
    "def index_of_coincidence(data):\r\n",
    "    \"\"\"计算文件内容的重合指数\"\"\"\r\n",
    "    with open(data,'r',encoding='ISO-8859-1') as f:\r\n",
    "        content = f.read()\r\n",
    "        if not content:\r\n",
    "            return 0\r\n",
    "        char_count = 0       # 保存在data中任意选择两个字符，这两个字符相同的情形的数量\r\n",
    "        total_char_count = 0 # 保存在data所有字符的数量\r\n",
    "\r\n",
    "        # 遍历单字节代表的256字符\r\n",
    "        for x in range(256):\r\n",
    "            char = chr(x)\r\n",
    "            charcount = content.count(char)              # 计算当前字符在data中的数量\r\n",
    "            char_count += charcount * (charcount - 1) # 计算在data中任意选择两个字符，这两个字符都为当前字符的情形的数量，并累加\r\n",
    "            total_char_count += charcount             # 计算当前字符在data中的数量，并累加\r\n",
    "       \r\n",
    "       # 按照重合指数的计算方法进行计算\r\n",
    "        ic = float(char_count)/(total_char_count * (total_char_count - 1))\r\n",
    "    return ic\r\n",
    "df['IC'] = df['file'].apply(index_of_coincidence)\r\n",
    "print(df['IC'].head())\r\n",
    "print(df['IC'].tail())\r\n",
    "# df['IC_1'] = pd.cut(df['IC'], bins=[-0.01,0,0.01,0.02,0.03,0.04,0.05,0.06,0.07,0.08,0.09,0.1], labels=['0','0.01','0.02', '0.03', '0.04','0.05','0.06','0.07','0.08','0.09','0.1'])\r\n",
    "# sns.countplot(x='IC_1', hue='target',data=df)"
   ]
  },
  {
   "cell_type": "markdown",
   "metadata": {
    "collapsed": false
   },
   "source": [
    "**<font color=black size=5 face=雅黑>特征五：文件压缩比</font>**"
   ]
  },
  {
   "cell_type": "code",
   "execution_count": 24,
   "metadata": {
    "collapsed": false
   },
   "outputs": [
    {
     "name": "stdout",
     "output_type": "stream",
     "text": [
      "0    11.124124\n",
      "1     0.982955\n",
      "2     4.078442\n",
      "3     1.839039\n",
      "4     1.651235\n",
      "Name: ratio, dtype: float64\n",
      "3448    9.054390\n",
      "3449    3.749621\n",
      "3450    1.650694\n",
      "3451    3.078552\n",
      "3452    5.554153\n",
      "Name: ratio, dtype: float64\n"
     ]
    }
   ],
   "source": [
    "def calculatezip(data):\r\n",
    "    with open(data,'r',encoding='ISO-8859-1') as f:\r\n",
    "        content = f.read().encode()\r\n",
    "        if not content:\r\n",
    "            return \"\", 0\r\n",
    "        compressed = zlib.compress(content)\r\n",
    "        ratio =  float(len(content)) / float(len(compressed))\r\n",
    "    return ratio\r\n",
    "    \r\n",
    "df['ratio'] = df['file'].apply(calculatezip)\r\n",
    "print(df['ratio'].head())\r\n",
    "print(df['ratio'].tail())\r\n",
    "# df['ratio_1'] = pd.cut(df['ratio'], bins=[0,1, 2, 3, 4,5,6,7,8,9,10], labels=['1','2', '3', '4','5','6','7','8','9','10'])\r\n",
    "# sns.countplot(x='ratio_1', hue='target',data=df)\r\n"
   ]
  },
  {
   "cell_type": "markdown",
   "metadata": {
    "collapsed": false
   },
   "source": [
    "**<font color=black size=5 face=雅黑>特征六：恶意函数</font>**"
   ]
  },
  {
   "cell_type": "code",
   "execution_count": 25,
   "metadata": {
    "collapsed": false
   },
   "outputs": [
    {
     "name": "stdout",
     "output_type": "stream",
     "text": [
      "0      7\n",
      "1      3\n",
      "2    130\n",
      "3      8\n",
      "4      1\n",
      "Name: filefunc_count, dtype: int64\n",
      "3448    38\n",
      "3449     0\n",
      "3450     1\n",
      "3451     1\n",
      "3452    28\n",
      "Name: filefunc_count, dtype: int64\n"
     ]
    },
    {
     "data": {
      "text/plain": [
       "<matplotlib.axes._subplots.AxesSubplot at 0x7f2f750fe910>"
      ]
     },
     "execution_count": 25,
     "metadata": {},
     "output_type": "execute_result"
    },
    {
     "data": {
      "image/png": "[encoded data removed]",
      "text/plain": [
       "<Figure size 432x288 with 1 Axes>"
      ]
     },
     "metadata": {},
     "output_type": "display_data"
    }
   ],
   "source": [
    "def getfilefunc(data):\r\n",
    "    content = ''\r\n",
    "    content_list = []\r\n",
    "    with open(data,'r',encoding='ISO-8859-1') as f:\r\n",
    "        c = f.readlines()\r\n",
    "        for i in c:\r\n",
    "            content = content + i.strip('\\n')\r\n",
    "        f.close()\r\n",
    "    content_list = re.split(r'\\(|\\)|\\[|\\]|\\{|\\}|\\s|\\.',content)\r\n",
    "    max_length = 0\r\n",
    "    for i in content_list:\r\n",
    "        if len(i) > max_length:\r\n",
    "            max_length = len(i)\r\n",
    "        else:\r\n",
    "            pass\r\n",
    "    #print(content_list)\r\n",
    "    count = 0\r\n",
    "    for i in content_list:\r\n",
    "        if 'assert' in i or 'system' in i or 'eval' in i or 'cmd_shell' in i or 'shell_exec' in i:\r\n",
    "            count = count + 1\r\n",
    "        if 'file_get_contents' in i or 'fopen' in i or 'fwrite' in i or 'readdir' in i or 'scandir' in i or 'opendir' in i or 'curl' in i:\r\n",
    "            count = count + 1\r\n",
    "        if 'base64_encode' in i or 'base64_decode' in i:\r\n",
    "            count = count + 1\r\n",
    "        if 'gzcompress' in i or 'gzuncompress' in i or 'gzinflate' in i or 'gzdecode' in i:\r\n",
    "            count = count + 1\r\n",
    "        if 'chr' in i or 'ord' in i:\r\n",
    "            count + count + 1\r\n",
    "        if 'str_replace' in i or 'preg_replace' in i or 'substr' in i:\r\n",
    "            count = count + 1\r\n",
    "        if 'create_function' in i or 'pack' in i:\r\n",
    "            count = count + 1\r\n",
    "    #print(x)\r\n",
    "    return count\r\n",
    "df['filefunc_count'] = df['file'].apply(getfilefunc)\r\n",
    "print(df['filefunc_count'].head())\r\n",
    "print(df['filefunc_count'].tail())\r\n",
    "df['filefunc_count_1'] = pd.cut(df['filefunc_count'], bins=[-1,0,3,6,9,12,15,18,21,24,27,30,33,36,39,42,45,48,51,54,57,60], labels=['0','3','6', '9', '12','15','18','21','24','27','30','33','36','39','42','45','48','51','54','57','60'])\r\n",
    "sns.countplot(x='filefunc_count_1', hue='target',data=df)\r\n"
   ]
  },
  {
   "cell_type": "markdown",
   "metadata": {
    "collapsed": false
   },
   "source": [
    "**<font color=black size=5 face=雅黑>特征七：最长单词长度</font>**"
   ]
  },
  {
   "cell_type": "code",
   "execution_count": 26,
   "metadata": {
    "collapsed": false
   },
   "outputs": [
    {
     "name": "stdout",
     "output_type": "stream",
     "text": [
      "0     222\n",
      "1     143\n",
      "2     727\n",
      "3    3013\n",
      "4      78\n",
      "Name: longestword, dtype: int64\n",
      "3448     76\n",
      "3449    199\n",
      "3450     61\n",
      "3451     76\n",
      "3452    111\n",
      "Name: longestword, dtype: int64\n"
     ]
    },
    {
     "data": {
      "text/plain": [
       "<matplotlib.axes._subplots.AxesSubplot at 0x7f2f6873a750>"
      ]
     },
     "execution_count": 26,
     "metadata": {},
     "output_type": "execute_result"
    },
    {
     "data": {
      "image/png": "[encoded data removed]",
      "text/plain": [
       "<Figure size 432x288 with 1 Axes>"
      ]
     },
     "metadata": {},
     "output_type": "display_data"
    }
   ],
   "source": [
    "def LongestWord(data):\r\n",
    "    with open(data,'r',encoding='ISO-8859-1') as f:\r\n",
    "        content = f.read()\r\n",
    "    \"\"\"查找文件内容中长度最长的单词\"\"\"\r\n",
    "    if not content:\r\n",
    "        return \"\", 0\r\n",
    "    longest = 0 # 保存最长单词的长度\r\n",
    "    longest_word = \"\" # 保存最长单词的内容\r\n",
    "       \r\n",
    "    words = re.split(\"[\\s,\\n,\\r]\", content) # 将文件内容按照空格和换行进行分词\r\n",
    "    if words:\r\n",
    "        for word in words:\r\n",
    "            length = len(word)\r\n",
    "            if length > longest: # 循环查找最长单词\r\n",
    "                longest = length\r\n",
    "                longest_word = word\r\n",
    "    return longest\r\n",
    "df['longestword'] = df['file'].apply(LongestWord)\r\n",
    "print(df['longestword'].head())\r\n",
    "print(df['longestword'].tail())\r\n",
    "df['longestword_1'] = pd.cut(df['longestword'], bins=[0,100, 200, 300, 400,500,600,700,800,900,1000,10000], labels=['100','200', '300', '400','500','600','700','800','900','1000','10000'])\r\n",
    "sns.countplot(x='longestword_1', hue='target',data=df)\r\n"
   ]
  },
  {
   "cell_type": "markdown",
   "metadata": {
    "collapsed": false
   },
   "source": [
    "**<font color=black size=5 face=雅黑>特征八：恶意关键词</font>**"
   ]
  },
  {
   "cell_type": "code",
   "execution_count": 27,
   "metadata": {
    "collapsed": false
   },
   "outputs": [
    {
     "name": "stdout",
     "output_type": "stream",
     "text": [
      "0     6\n",
      "1     2\n",
      "2    33\n",
      "3     2\n",
      "4     0\n",
      "Name: keyword_len, dtype: int64\n",
      "3448    0\n",
      "3449    0\n",
      "3450    0\n",
      "3451    0\n",
      "3452    1\n",
      "Name: keyword_len, dtype: int64\n"
     ]
    },
    {
     "data": {
      "text/plain": [
       "<matplotlib.axes._subplots.AxesSubplot at 0x7f2f6866cc50>"
      ]
     },
     "execution_count": 27,
     "metadata": {},
     "output_type": "execute_result"
    },
    {
     "data": {
      "image/png": "[encoded data removed]",
      "text/plain": [
       "<Figure size 432x288 with 1 Axes>"
      ]
     },
     "metadata": {},
     "output_type": "display_data"
    }
   ],
   "source": [
    "def signature_nasty(data):\r\n",
    "    with open(data,'r',encoding='ISO-8859-1') as f:\r\n",
    "        content = f.read() \r\n",
    "       # \"\"\"查找文件的恶意特征\"\"\"\r\n",
    "        if not content:\r\n",
    "            return \"\", 0\r\n",
    "        # 查找文件内下面所列的恶意函数 \r\n",
    "        valid_regex = re.compile('(eval\\(|file_put_contents|base64_decode|python_eval|exec\\(|passthru|popen|proc_open|pcntl|assert\\(|system\\(|shell)', re.I)\r\n",
    "        matches = re.findall(valid_regex, content)\r\n",
    "    return len(matches)\r\n",
    "df['keyword_len'] = df['file'].apply(signature_nasty)\r\n",
    "print(df['keyword_len'].head())\r\n",
    "print(df['keyword_len'].tail())\r\n",
    "df['keywordlen_1'] = pd.cut(df['keyword_len'], bins=[-0.1,0,1, 2, 3, 4,5,6,7,8,9,10], labels=['0','1','2', '3', '4','5','6','7','8','9','10'])\r\n",
    "sns.countplot(x='keywordlen_1', hue='target',data=df)"
   ]
  },
  {
   "cell_type": "markdown",
   "metadata": {
    "collapsed": false
   },
   "source": [
    "**<font color=black size=5 face=雅黑>将处理后的特征写入CSV文件</font>**"
   ]
  },
  {
   "cell_type": "code",
   "execution_count": 32,
   "metadata": {
    "collapsed": false
   },
   "outputs": [
    {
     "name": "stdout",
     "output_type": "stream",
     "text": [
      "                                                file  target  file_size  \\\n",
      "0         ./work/php-webshell/php-webshell/smowu.php       1      58.90   \n",
      "1  ./work/php-webshell/php-webshell/5f4a33b40c9f5...       1       0.16   \n",
      "2  ./work/php-webshell/php-webshell/79a934fc3e80d...       1      63.48   \n",
      "3  ./work/php-webshell/php-webshell/fd141197c89d2...       1       4.93   \n",
      "4  ./work/php-webshell/php-webshell/d9647e4136623...       1       0.52   \n",
      "\n",
      "    entropy        IC      ratio  filefunc_count filefunc_count_1  \\\n",
      "0  5.171564  0.034737  11.124124               7                9   \n",
      "1  5.887756  0.013846   0.982955               3                3   \n",
      "2  5.750168  0.026527   4.078442             130              NaN   \n",
      "3  6.108428  0.015964   1.839039               8                9   \n",
      "4  5.427253  0.027288   1.651235               1                3   \n",
      "\n",
      "   longestword longestword_1  keyword_len keywordlen_1    len  \n",
      "0          222           300            6            6  60315  \n",
      "1          143           200            2            2    173  \n",
      "2          727           800           33          NaN  65013  \n",
      "3         3013         10000            2            2   5050  \n",
      "4           78           100            0            0    535  \n",
      "                                                 file  target  file_size  \\\n",
      "3448            ./work/php-benign/php-benign/Eyou.php       0     164.51   \n",
      "3449          ./work/php-benign/php-benign/Mysqli.php       0       7.96   \n",
      "3450  ./work/php-benign/php-benign/sys_admin_user.php       0       1.27   \n",
      "3451        ./work/php-benign/php-benign/SmsLogic.php       0       6.87   \n",
      "3452        ./work/php-benign/php-benign/WxPayApi.php       0      22.14   \n",
      "\n",
      "       entropy        IC     ratio  filefunc_count filefunc_count_1  \\\n",
      "3448  5.767540  0.079107  9.054390              38               39   \n",
      "3449  6.217822  0.096876  3.749621               0                0   \n",
      "3450  5.781437  0.031714  1.650694               1                3   \n",
      "3451  6.045982  0.076455  3.078552               1                3   \n",
      "3452  6.275968  0.019943  5.554153              28               30   \n",
      "\n",
      "      longestword longestword_1  keyword_len keywordlen_1     len  \n",
      "3448           76           100            0            0  164680  \n",
      "3449          199           200            0            0    8153  \n",
      "3450           61           100            0            0    1264  \n",
      "3451           76           100            0            0    7044  \n",
      "3452          111           200            1            1   22062  \n"
     ]
    }
   ],
   "source": [
    "print(df.head())\r\n",
    "print(df.tail())\r\n",
    "# 写入excel文件\r\n",
    "df.to_csv(\"./work/data_after_pro.csv\",index=False,sep=',')"
   ]
  },
  {
   "cell_type": "markdown",
   "metadata": {
    "collapsed": false
   },
   "source": [
    "**<font color=black size=5 face=雅黑>热力图查看特征之间的相关性</font>**"
   ]
  },
  {
   "cell_type": "code",
   "execution_count": 29,
   "metadata": {
    "collapsed": false
   },
   "outputs": [
    {
     "data": {
      "image/png": "[encoded data removed]",
      "text/plain": [
       "<Figure size 1008x864 with 2 Axes>"
      ]
     },
     "metadata": {},
     "output_type": "display_data"
    }
   ],
   "source": [
    "def correlation_heatmap(df):\r\n",
    "    _ , ax = plt.subplots(figsize =(14, 12))\r\n",
    "    colormap = sns.diverging_palette(220, 10, as_cmap = True)\r\n",
    "    _ = sns.heatmap(df.corr(),cmap = colormap, square=True,cbar_kws={'shrink':.9 }, ax=ax, annot=True, linewidths=0.1,vmin=0,vmax=1.0, linecolor='white',annot_kws={'fontsize':12 })\r\n",
    "    plt.title('Pearson Correlation of Features', y=1.05, size=15)\r\n",
    "    plt.show()\r\n",
    "correlation_heatmap(df)"
   ]
  },
  {
   "cell_type": "markdown",
   "metadata": {
    "collapsed": false
   },
   "source": [
    "**<font color=black size=5 face=雅黑>训练模型数据集导入并分割训练集和测试集</font>**"
   ]
  },
  {
   "cell_type": "code",
   "execution_count": 33,
   "metadata": {
    "collapsed": false
   },
   "outputs": [
    {
     "name": "stdout",
     "output_type": "stream",
     "text": [
      "     len  file_size   entropy        IC      ratio  filefunc_count  \\\n",
      "0  60315      58.90  5.171564  0.034737  11.124124               7   \n",
      "1    173       0.16  5.887756  0.013846   0.982955               3   \n",
      "2  65013      63.48  5.750168  0.026527   4.078442             130   \n",
      "3   5050       4.93  6.108428  0.015964   1.839039               8   \n",
      "4    535       0.52  5.427253  0.027288   1.651235               1   \n",
      "\n",
      "   longestword  keyword_len  target  \n",
      "0          222            6       1  \n",
      "1          143            2       1  \n",
      "2          727           33       1  \n",
      "3         3013            2       1  \n",
      "4           78            0       1  \n",
      "         len  file_size   entropy        IC     ratio  filefunc_count  \\\n",
      "3448  164680     164.51  5.767540  0.079107  9.054390              38   \n",
      "3449    8153       7.96  6.217822  0.096876  3.749621               0   \n",
      "3450    1264       1.27  5.781437  0.031714  1.650694               1   \n",
      "3451    7044       6.87  6.045982  0.076455  3.078552               1   \n",
      "3452   22062      22.14  6.275968  0.019943  5.554153              28   \n",
      "\n",
      "      longestword  keyword_len  target  \n",
      "3448           76            0       0  \n",
      "3449          199            0       0  \n",
      "3450           61            0       0  \n",
      "3451           76            0       0  \n",
      "3452          111            1       0  \n"
     ]
    }
   ],
   "source": [
    "data_lite = df[['len', 'file_size', 'entropy' , 'IC', 'ratio', 'filefunc_count','longestword','keyword_len','target']]\r\n",
    "# 下面看一下数据的前五行是不是我们想要的结果\r\n",
    "data_dummies = data_lite\r\n",
    "print(data_lite.head())\r\n",
    "print(data_lite.tail())\r\n",
    "features = data_dummies.loc[:,'len':'keyword_len']\r\n",
    "X = features.values\r\n",
    "y = data_dummies['target'].values\r\n",
    "\r\n",
    "X_train,X_test,y_train,y_test = train_test_split(X,y,test_size=0.3,random_state=9)  # 拆分成训练集和测试集"
   ]
  },
  {
   "cell_type": "markdown",
   "metadata": {
    "collapsed": false
   },
   "source": [
    "**<font color=black size=8 face=雅黑>随机森林调参过程</font>**"
   ]
  },
  {
   "cell_type": "markdown",
   "metadata": {
    "collapsed": false
   },
   "source": [
    "**<font color=black size=5 face=雅黑>随机森林调参：criterion参数的最佳值</font>**"
   ]
  },
  {
   "cell_type": "code",
   "execution_count": null,
   "metadata": {
    "collapsed": false
   },
   "outputs": [],
   "source": [
    "# RF = RandomForestClassifier(random_state = 66)\r\n",
    "# score = cross_val_score(RF,X_train,y_train,cv=10).mean()\r\n",
    "# print('基尼系数得分: %.4f'%score)\r\n",
    "# RF = RandomForestClassifier(criterion = 'entropy',random_state = 66)\r\n",
    "# score = cross_val_score(RF,X_train,y_train,cv=10).mean()\r\n",
    "# print('熵得分: %.4f'%score)"
   ]
  },
  {
   "cell_type": "markdown",
   "metadata": {
    "collapsed": false
   },
   "source": [
    "**<font color=black size=5 face=雅黑>随机森林调参：探索n_estimators的最佳值</font>**"
   ]
  },
  {
   "cell_type": "code",
   "execution_count": null,
   "metadata": {
    "collapsed": false
   },
   "outputs": [],
   "source": [
    "# ###调n_estimators参数\r\n",
    "# ScoreAll = []\r\n",
    "# for i in range(10,101,10):\r\n",
    "#     DT = RandomForestClassifier(n_estimators = i,random_state = 66,criterion = 'entropy') \r\n",
    "#     score = cross_val_score(DT,X_train,y_train,cv=10).mean()\r\n",
    "#     ScoreAll.append([i,score])\r\n",
    "# ScoreAll = np.array(ScoreAll)\r\n",
    "# max_score = np.where(ScoreAll==np.max(ScoreAll[:,1]))[0][0] ##找出最高得分对应的索引\r\n",
    "# print(\"最优参数以及最高得分:\",ScoreAll[max_score])  \r\n",
    "# plt.figure(figsize=[20,5])\r\n",
    "# plt.plot(ScoreAll[:,0],ScoreAll[:,1])\r\n",
    "# plt.show()\r\n",
    "\r\n",
    "# ##调n_estimators参数\r\n",
    "# ScoreAll = []\r\n",
    "# for i in range(50,70,1):\r\n",
    "#     DT = RandomForestClassifier(n_estimators = i,random_state = 66,criterion = 'entropy') \r\n",
    "#     score = cross_val_score(DT,X_train,y_train,cv=10).mean()\r\n",
    "#     ScoreAll.append([i,score])\r\n",
    "# ScoreAll = np.array(ScoreAll)\r\n",
    "# max_score = np.where(ScoreAll==np.max(ScoreAll[:,1]))[0][0] ##找出最高得分对应的索引\r\n",
    "# print(\"最优参数以及最高得分:\",ScoreAll[max_score])  \r\n",
    "# plt.figure(figsize=[20,5])\r\n",
    "# plt.plot(ScoreAll[:,0],ScoreAll[:,1])\r\n",
    "# plt.show()\r\n",
    "\r\n"
   ]
  },
  {
   "cell_type": "markdown",
   "metadata": {
    "collapsed": false
   },
   "source": [
    "**<font color=black size=5 face=雅黑>随机森林调参：探索max_depth（树的最大深度）最佳参数</font>**"
   ]
  },
  {
   "cell_type": "code",
   "execution_count": null,
   "metadata": {
    "collapsed": false
   },
   "outputs": [],
   "source": [
    "# ###粗调max_depth参数\r\n",
    "# ScoreAll = []\r\n",
    "# for i in range(13,25,1):\r\n",
    "#     DT = RandomForestClassifier(n_estimators = 60,random_state = 66,max_depth =i,criterion = 'entropy') \r\n",
    "#     score = cross_val_score(DT,X_train,y_train,cv=10).mean()\r\n",
    "#     ScoreAll.append([i,score])\r\n",
    "# ScoreAll = np.array(ScoreAll)\r\n",
    "\r\n",
    "# max_score = np.where(ScoreAll==np.max(ScoreAll[:,1]))[0][0] ##找出最高得分对应的索引\r\n",
    "# print(\"最优参数以及最高得分:\",ScoreAll[max_score])  \r\n",
    "# plt.figure(figsize=[20,5])\r\n",
    "# plt.plot(ScoreAll[:,0],ScoreAll[:,1])\r\n",
    "# plt.show()"
   ]
  },
  {
   "cell_type": "markdown",
   "metadata": {
    "collapsed": false
   },
   "source": [
    "**<font color=black size=5 face=雅黑>随机森林调参：探索min_samples_split（分割内部节点所需的最小样本数）最佳参数</font>**"
   ]
  },
  {
   "cell_type": "code",
   "execution_count": null,
   "metadata": {
    "collapsed": false
   },
   "outputs": [],
   "source": [
    "# ###调min_samples_split参数\r\n",
    "# ScoreAll = []\r\n",
    "# for i in range(2,10,1):\r\n",
    "#     RF = RandomForestClassifier(n_estimators = 60,max_depth = 19,random_state = 66,min_samples_split = i,criterion = 'entropy' ) #,criterion = 'entropy'\r\n",
    "#     score = cross_val_score(RF,X_train,y_train,cv=10).mean()\r\n",
    "#     ScoreAll.append([i,score])\r\n",
    "# ScoreAll = np.array(ScoreAll)\r\n",
    "\r\n",
    "# max_score = np.where(ScoreAll==np.max(ScoreAll[:,1]))[0][0] ##找出最高得分对应的索引\r\n",
    "# print(\"最优参数以及最高得分:\",ScoreAll[max_score])  \r\n",
    "# plt.figure(figsize=[20,5])\r\n",
    "# plt.plot(ScoreAll[:,0],ScoreAll[:,1])\r\n",
    "# plt.show()"
   ]
  },
  {
   "cell_type": "markdown",
   "metadata": {
    "collapsed": false
   },
   "source": [
    "**<font color=black size=5 face=雅黑>随机森林调参：探索min_samples_leaf（分割内部节点所需的最小样本数）最佳参数</font>**"
   ]
  },
  {
   "cell_type": "code",
   "execution_count": null,
   "metadata": {
    "collapsed": false
   },
   "outputs": [],
   "source": [
    "# ###调min_samples_leaf参数\r\n",
    "# ScoreAll = []\r\n",
    "# for i in range(1,10,1):\r\n",
    "#     DT = RandomForestClassifier(n_estimators = 60,max_depth = 19,random_state = 66,min_samples_leaf = i,min_samples_split = 2,criterion = 'entropy' ) \r\n",
    "#     score = cross_val_score(DT,X_train,y_train,cv=10).mean()\r\n",
    "#     ScoreAll.append([i,score])\r\n",
    "# ScoreAll = np.array(ScoreAll)\r\n",
    "\r\n",
    "# max_score = np.where(ScoreAll==np.max(ScoreAll[:,1]))[0][0] ##找出最高得分对应的索引\r\n",
    "# print(\"最优参数以及最高得分:\",ScoreAll[max_score])  \r\n",
    "# plt.figure(figsize=[20,5])\r\n",
    "# plt.plot(ScoreAll[:,0],ScoreAll[:,1])\r\n",
    "# plt.show()"
   ]
  },
  {
   "cell_type": "markdown",
   "metadata": {
    "collapsed": false
   },
   "source": [
    "**<font color=black size=5 face=雅黑>随机森林调参：对每棵树用到的最大特征数max_features调参</font>**"
   ]
  },
  {
   "cell_type": "code",
   "execution_count": null,
   "metadata": {
    "collapsed": false
   },
   "outputs": [],
   "source": [
    "# #调max_features参数\r\n",
    "# list =['auto','sqrt','log2']\r\n",
    "# ScoreAll = []\r\n",
    "# for i in list:\r\n",
    "#     DT = RandomForestClassifier(n_estimators = 60,max_depth = 19,random_state = 66,min_samples_leaf = 1,min_samples_split = 2,criterion = 'entropy',max_features= i  ) \r\n",
    "#     score = cross_val_score(DT,X_train,y_train,cv=10).mean()\r\n",
    "#     ScoreAll.append([i,score])\r\n",
    "#     print(i,score)\r\n",
    "# DT = RandomForestClassifier(n_estimators = 45,max_depth = 10,random_state = 66,min_samples_leaf = 1,min_samples_split = 2,criterion = 'entropy',max_features= None  ) \r\n",
    "# score = cross_val_score(DT,X_train,y_train,cv=10).mean()\r\n",
    "# ScoreAll.append([i,score])\r\n",
    "# print(\"None\",score)"
   ]
  },
  {
   "cell_type": "markdown",
   "metadata": {
    "collapsed": false
   },
   "source": [
    "**<font color=black size=5 face=雅黑>随机森林模型训练</font>**"
   ]
  },
  {
   "cell_type": "code",
   "execution_count": 37,
   "metadata": {
    "collapsed": false
   },
   "outputs": [
    {
     "name": "stdout",
     "output_type": "stream",
     "text": [
      "0.9106306368094372\n",
      "这里是随机森林模型的评估：\n",
      "\n",
      "测试集的准确率： 0.9102316602316602\n",
      "\n",
      "测试集的精确率： 0.8953722334004024\n",
      "\n",
      "测试集的召回值： 0.9156378600823045\n",
      "\n",
      "测试集的F1值： 0.9053916581892166\n",
      "\n",
      "测试集的漏报率： 0.08436213991769548\n",
      "\n",
      "测试集的误报率： 0.1046277665995976\n",
      "\n",
      "\n",
      "              precision    recall  f1-score   support\n",
      "\n",
      "           0       0.92      0.91      0.91       550\n",
      "           1       0.90      0.92      0.91       486\n",
      "\n",
      "    accuracy                           0.91      1036\n",
      "   macro avg       0.91      0.91      0.91      1036\n",
      "weighted avg       0.91      0.91      0.91      1036\n",
      "\n"
     ]
    }
   ],
   "source": [
    "# 经过调参后，用25棵树最大深度为10的随机森林拟合数据\r\n",
    "forest = RandomForestClassifier(n_estimators=20,max_depth=3, criterion='entropy', random_state=66, min_samples_split = 2,min_samples_leaf=1)\r\n",
    "forest.fit(X_train, y_train)\r\n",
    "# 模型的评估\r\n",
    "y_test_pre = forest.predict(X_test)\r\n",
    "test_accuracy = forest.score(X_test, y_test)\r\n",
    "score = cross_val_score(forest,X_train,y_train,cv=10).mean()\r\n",
    "print(score)\r\n",
    "print(\"这里是随机森林模型的评估：\")\r\n",
    "print(\"\\n测试集的准确率：\", test_accuracy)\r\n",
    "test_precision = precision_score(y_test, y_test_pre)\r\n",
    "print(\"\\n测试集的精确率：\", test_precision)\r\n",
    "test_recall = recall_score(y_test, y_test_pre)\r\n",
    "print(\"\\n测试集的召回值：\", test_recall)\r\n",
    "test_f1 = f1_score(y_test, y_test_pre)\r\n",
    "print(\"\\n测试集的F1值：\", test_f1)\r\n",
    "print(\"\\n测试集的漏报率：\", 1-test_recall)\r\n",
    "print(\"\\n测试集的误报率：\", 1-test_precision)\r\n",
    "print(\"\\n\")\r\n",
    "print(classification_report(y_test,y_test_pre))\r\n"
   ]
  },
  {
   "cell_type": "code",
   "execution_count": 40,
   "metadata": {
    "collapsed": false
   },
   "outputs": [
    {
     "data": {
      "image/png": "[encoded data removed]",
      "text/plain": [
       "<Figure size 432x288 with 1 Axes>"
      ]
     },
     "metadata": {},
     "output_type": "display_data"
    }
   ],
   "source": [
    "forest_disp = plot_roc_curve(forest, X_test, y_test)\r\n",
    "plt.show()"
   ]
  },
  {
   "cell_type": "markdown",
   "metadata": {
    "collapsed": false
   },
   "source": [
    "**<font color=black size=5 face=雅黑>特征重要度排序</font>**"
   ]
  },
  {
   "cell_type": "code",
   "execution_count": 24,
   "metadata": {
    "collapsed": false
   },
   "outputs": [
    {
     "name": "stdout",
     "output_type": "stream",
     "text": [
      "这里是特征的重要度排序：\n",
      "\n",
      "Index(['len', 'file_size', 'entropy', 'IC', 'ratio', 'filefunc_count',\n",
      "       'longestword', 'keyword_len'],\n",
      "      dtype='object')\n",
      " 1) keyword_len                    0.186021\n",
      " 2) IC                             0.156636\n",
      " 3) longestword                    0.133589\n",
      " 4) ratio                          0.132511\n",
      " 5) len                            0.123800\n",
      " 6) file_size                      0.113854\n",
      " 7) entropy                        0.091099\n",
      " 8) filefunc_count                 0.062491\n"
     ]
    },
    {
     "data": {
      "image/png": "[encoded data removed]",
      "text/plain": [
       "<Figure size 720x432 with 1 Axes>"
      ]
     },
     "metadata": {},
     "output_type": "display_data"
    }
   ],
   "source": [
    "print(\"这里是特征的重要度排序：\\n\")\r\n",
    "feat_labels = data_lite.columns[0:-1]\r\n",
    "print(feat_labels)\r\n",
    "importances = forest.feature_importances_\r\n",
    "indices = np.argsort(importances)[::-1]\r\n",
    "for f in range(X_train.shape[1]):\r\n",
    "    print(\"%2d) %-*s %f\" % (f + 1, 30, feat_labels[indices[f]], importances[indices[f]]))\r\n",
    "\r\n",
    "# 可视化\r\n",
    "x_columns = data_lite.columns[0:-1]\r\n",
    "plt.figure(figsize=(10,6))\r\n",
    "plt.title(\"Webshell detection features importance level\",fontsize = 18)\r\n",
    "plt.ylabel(\"import level\",fontsize = 15,rotation=90)\r\n",
    "for i in range(x_columns.shape[0]):\r\n",
    "    plt.bar(i,importances[indices[i]],color='teal',align='center')\r\n",
    "    plt.xticks(np.arange(x_columns.shape[0]),feat_labels[indices],rotation=45,fontsize=14)\r\n",
    "index=np.arange(10)\r\n",
    "num_list = importances[indices]\r\n",
    "for a,b in zip(index,num_list):   #柱子上的数字显示\r\n",
    "    plt.text(a,b,'%.5f'%b,ha='center',va='bottom',fontsize=10);\r\n",
    "plt.show()"
   ]
  },
  {
   "cell_type": "markdown",
   "metadata": {
    "collapsed": false
   },
   "source": [
    "**<font color=black size=5 face=雅黑>决策树模型的训练及分数评估</font>**"
   ]
  },
  {
   "cell_type": "code",
   "execution_count": 25,
   "metadata": {
    "collapsed": false
   },
   "outputs": [
    {
     "name": "stdout",
     "output_type": "stream",
     "text": [
      "这里是决策树模型的评估：\n",
      "\n",
      "测试集的准确率： 0.9198841698841699\n",
      "\n",
      "测试集的精确率： 0.918918918918919\n",
      "\n",
      "测试集的召回值： 0.9094650205761317\n",
      "\n",
      "测试集的F1值： 0.9141675284384694\n",
      "\n",
      "测试集的漏报率： 0.09053497942386834\n",
      "\n",
      "测试集的误报率： 0.08108108108108103\n",
      "              precision    recall  f1-score   support\n",
      "\n",
      "           0       0.92      0.93      0.92       550\n",
      "           1       0.92      0.91      0.91       486\n",
      "\n",
      "   micro avg       0.92      0.92      0.92      1036\n",
      "   macro avg       0.92      0.92      0.92      1036\n",
      "weighted avg       0.92      0.92      0.92      1036\n",
      "\n"
     ]
    }
   ],
   "source": [
    "#用最大深度为15的决策树拟合数据\r\n",
    "go_dating_tree = tree.DecisionTreeClassifier(max_depth=19)\r\n",
    "go_dating_tree.fit(X_train,y_train)\r\n",
    "# 模型的评估\r\n",
    "y_test_pre = go_dating_tree.predict(X_test)\r\n",
    "test_accuracy = go_dating_tree.score(X_test, y_test)\r\n",
    "print(\"这里是决策树模型的评估：\")\r\n",
    "print(\"\\n测试集的准确率：\", test_accuracy)\r\n",
    "test_precision = precision_score(y_test, y_test_pre)\r\n",
    "print(\"\\n测试集的精确率：\", test_precision)\r\n",
    "test_recall = recall_score(y_test, y_test_pre)\r\n",
    "print(\"\\n测试集的召回值：\", test_recall)\r\n",
    "test_f1 = f1_score(y_test, y_test_pre)\r\n",
    "print(\"\\n测试集的F1值：\", test_f1)\r\n",
    "print(\"\\n测试集的漏报率：\", 1-test_recall)\r\n",
    "print(\"\\n测试集的误报率：\", 1-test_precision)\r\n",
    "print(classification_report(y_test,y_test_pre))"
   ]
  },
  {
   "cell_type": "markdown",
   "metadata": {
    "collapsed": false
   },
   "source": [
    "**<font color=black size=5 face=雅黑>KNN模型的训练及分数评估</font>**"
   ]
  },
  {
   "cell_type": "code",
   "execution_count": 41,
   "metadata": {
    "collapsed": false
   },
   "outputs": [
    {
     "name": "stdout",
     "output_type": "stream",
     "text": [
      "\n",
      "KNN准确率 0.8359073359073359\n",
      "\n",
      "KNN精确率 0.839834958739685\n",
      "\n",
      "KNN召回率 0.8321661054994388\n",
      "\n",
      "KNNF1值 0.8338239734299516\n",
      "\n",
      "测试集的漏报率： 0.1678338945005612\n",
      "\n",
      "测试集的误报率： 0.16016504126031506\n"
     ]
    }
   ],
   "source": [
    "knc = KNN(n_neighbors=6, )\r\n",
    "knc.fit(X_train, y_train)\r\n",
    "y_predict = knc.predict(X_test)\r\n",
    "acc = knc.score(X_test, y_test)\r\n",
    "print('\\nKNN准确率', acc)\r\n",
    "pre = precision_score(y_test, y_predict, average='macro')\r\n",
    "print('\\nKNN精确率', pre)\r\n",
    "recall = recall_score(y_test, y_predict, average='macro')\r\n",
    "print('\\nKNN召回率', recall)\r\n",
    "print('\\nKNNF1值', f1_score(y_test, y_predict, average='macro'))\r\n",
    "print(\"\\n测试集的漏报率：\", 1-recall)\r\n",
    "print(\"\\n测试集的误报率：\", 1-pre)"
   ]
  },
  {
   "cell_type": "markdown",
   "metadata": {
    "collapsed": false
   },
   "source": [
    "**<font color=black size=5 face=雅黑>随机森林模型对手动输入的语句进行预测</font>**"
   ]
  },
  {
   "cell_type": "code",
   "execution_count": 34,
   "metadata": {
    "collapsed": false
   },
   "outputs": [
    {
     "name": "stdout",
     "output_type": "stream",
     "text": [
      "请输入您要检测的文件路径：\n",
      "\n",
      "\n",
      "目标文件work/0c1f8c449db09e2fc65b2979841f9cd9a24ce328.php的预测结果如下：\n",
      "====================================\n",
      "\n",
      "警告！work/0c1f8c449db09e2fc65b2979841f9cd9a24ce328.php是个Webshell文件！\n",
      "\n",
      "====================================\n",
      "\n",
      "\n",
      "\n",
      "\n"
     ]
    }
   ],
   "source": [
    "# 预测过程\r\n",
    "print(\"请输入您要检测的文件路径：\")\r\n",
    "input1 = input()\r\n",
    "# 生成预测域名的特征集\r\n",
    "predictlist = [[getfilelen(input1), filesize(input1),calculate(input1), index_of_coincidence(input1), calculatezip(input1), getfilefunc(input1),LongestWord(input1),signature_nasty(input1)]]\r\n",
    "#使用模型做出预测\r\n",
    "dating_dec = forest.predict(predictlist)\r\n",
    "print('\\n')\r\n",
    "print('目标文件%s的预测结果如下：'%input1)\r\n",
    "print('====================================\\n')\r\n",
    "if dating_dec == 1:\r\n",
    "    print(\"警告！%s是个Webshell文件！\"%input1)\r\n",
    "else:\r\n",
    "    print(\"%s为正常数据。\"%input1)\r\n",
    "print('\\n====================================')\r\n",
    "print('\\n\\n\\n')"
   ]
  }
 ],
 "metadata": {
  "kernelspec": {
   "display_name": "PaddlePaddle 2.0.0b0 (Python 3.5)",
   "language": "python",
   "name": "py35-paddle1.2.0"
  },
  "language_info": {
   "codemirror_mode": {
    "name": "ipython",
    "version": 3
   },
   "file_extension": ".py",
   "mimetype": "text/x-python",
   "name": "python",
   "nbconvert_exporter": "python",
   "pygments_lexer": "ipython3",
   "version": "3.7.4"
  }
 },
 "nbformat": 4,
 "nbformat_minor": 1
}
